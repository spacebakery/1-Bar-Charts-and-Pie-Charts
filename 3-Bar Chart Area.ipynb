{
 "cells": [
  {
   "cell_type": "markdown",
   "metadata": {},
   "source": [
    "BAR CHARTS AND PIE CHARTS\n",
    "# Bar Chart Area\n",
    "Let’s go over one of the most important concepts about bar charts — so important, we gave it its own exercise.\n",
    "\n",
    "The bars of a bar chart have a couple of key features:\n",
    "\n",
    "- They have lengths that are proportional to the counts they represent\n",
    "- Each bar’s width in the bar chart is the same, meaning each bar’s area is also proportional to the counts they represent.\n",
    "\n",
    "These features make a bar chart super dependable for representing categorical data.\n",
    "\n",
    "For any chart like a bar chart, the areas we use to represent values must always be equivalent to the relative sizes of the values they represent. Otherwise, readers could be misled and potentially identify patterns that do not actually exist.\n"
   ]
  },
  {
   "cell_type": "markdown",
   "metadata": {},
   "source": [
    "**Instructions**\n",
    "\n",
    "Let’s take a look at the animation to the right. It shows counts transforming into a bar chart. Even without the counts, we could see the relative sizes of each bar in the chart:\n",
    "\n",
    "- Bar “a” is half the size of bar “b”.\n",
    "- Bar “b” is half the size of bar “c”.\n",
    "- Bar “c” is twice the size of bar “d”.\n",
    "\n",
    "Click [here](https://static-assets.codecademy.com/Paths/data-analyst-career-path/barcharts_piecharts_lesson/bar_gif_final/index.html?_gl=1*t8tlks*_ga*MTU2OTc1NDk0LjE2OTc0MDE0NDg.*_ga_3LRZM6TM9L*MTcwNzI3NDExMi4xMDQuMC4xNzA3Mjc0MTEyLjYwLjAuMA..) if you would like to see the animation in a separate window.\n",
    "\n",
    "This is accurate according to the counts as well. Anytime you see a bar graph, the area should always be proportional to the counts being represented.\n"
   ]
  },
  {
   "cell_type": "markdown",
   "metadata": {},
   "source": [
    "![](bar_graph_4.svg)"
   ]
  },
  {
   "cell_type": "markdown",
   "metadata": {},
   "source": []
  }
 ],
 "metadata": {
  "language_info": {
   "name": "python"
  }
 },
 "nbformat": 4,
 "nbformat_minor": 2
}
